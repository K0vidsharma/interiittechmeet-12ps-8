{
  "nbformat": 4,
  "nbformat_minor": 0,
  "metadata": {
    "colab": {
      "provenance": []
    },
    "kernelspec": {
      "name": "python3",
      "display_name": "Python 3"
    },
    "language_info": {
      "name": "python"
    }
  },
  "cells": [
    {
      "cell_type": "markdown",
      "source": [
        "# Preprocessing notebook for Task - 1: Behavior Simulation\n",
        "\n",
        "**In this we notebook we extract the number of followers of each username.**\n",
        "\n",
        "* To capture the potential impact of the account's popularity on tweet engagement, the Twitter account's follower count was obtained through web scraping using libraries like `requests` and `BeautifulSoup`.\n",
        "\n",
        "## Steps followed:\n",
        "1. Step-1: Extracting unique usernames from all the examples.\n",
        "2. Step-2: Created a function which converts scraped follower count text to integer.\n",
        "3. Step-3: Created a function which get the follower count for the given URL.\n",
        "4. Step-4: We apply the functions created on the unique usernames and get the follower count.\n",
        "5. Step-5: We then map the follower count of unique usernames with the original dataset.\n",
        "6. Step-6: We save the final dataframe as an excel file for furthur use.\n",
        "\n",
        "\n"
      ],
      "metadata": {
        "id": "n6M5nNN5xaUC"
      }
    },
    {
      "cell_type": "markdown",
      "source": [
        "# Installing and Importing the necessary libraries"
      ],
      "metadata": {
        "id": "4NR77JtQwgRm"
      }
    },
    {
      "cell_type": "code",
      "execution_count": null,
      "metadata": {
        "id": "-uZ3P-CjZlz5"
      },
      "outputs": [],
      "source": [
        "!pip install pandas\n",
        "!pip install requests\n",
        "!pip install beautifulsoup4\n",
        "import pandas as pd\n",
        "import requests\n",
        "from bs4 import BeautifulSoup"
      ]
    },
    {
      "cell_type": "markdown",
      "source": [
        "# Loading the training dataset to a dataframe\n",
        "The dataset is loaded into a pandas dataframe to allow us to smoothy preprocess and extract data.\n",
        "\n",
        " **Replace 'task1_train_dataset.xlsx' with the appropriate file path of the training dataset.**"
      ],
      "metadata": {
        "id": "H_gKv_1Yw3Eb"
      }
    },
    {
      "cell_type": "code",
      "source": [
        "df=pd.read_excel('task1_train_dataset.xlsx')"
      ],
      "metadata": {
        "id": "71ciE7pYwwb4"
      },
      "execution_count": null,
      "outputs": []
    },
    {
      "cell_type": "markdown",
      "source": [
        "# Extracting the Unique Usernames\n",
        "\n",
        "In this cell, we extract the unique usernames from all the examples.\n",
        "* We create a new DataFrame: `df_unique_usernames` which contains all the unique usernames.\n",
        "* we used the method `.unique()` to get all the unique usernames."
      ],
      "metadata": {
        "id": "wBnT_v5kxOTs"
      }
    },
    {
      "cell_type": "code",
      "source": [
        "df_unique_usernames = pd.DataFrame({'username': df['username'].unique()})"
      ],
      "metadata": {
        "id": "tdVfbvLJZqTD"
      },
      "execution_count": null,
      "outputs": []
    },
    {
      "cell_type": "markdown",
      "source": [
        "# Function to convert the number of followers text to an integer\n",
        "\n",
        "In this code cell, we define a function which convert the followers text to integer.\n",
        "\n",
        "**Input:**\n",
        "1. followers_text: The extracted from web scraping, type: `str`\n",
        "\n",
        "**Returns**\n",
        "Follower count, type: `int`\n",
        "For Example:\n",
        "* 1.8k = 1800\n",
        "* 1.8m = 1800000\n",
        "\n",
        "**Code Explaination:**\n",
        "* We used `.replace` method to replace 'k' or 'm' with blank('')\n",
        "* We converted the type to `float` and mulliplied with appropriate values for 'k' or 'm'.\n",
        "* After getting the final count, we converted it to type - `int` and then returned the count.\n",
        "\n"
      ],
      "metadata": {
        "id": "ZkS6JkB0e6gU"
      }
    },
    {
      "cell_type": "code",
      "source": [
        "def convert_followers_to_int(followers_text):\n",
        "    followers_text = followers_text.lower()\n",
        "    if 'k' in followers_text:\n",
        "        return int(float(followers_text.replace('k', '')) * 1000)\n",
        "    elif 'm' in followers_text:\n",
        "        return int(float(followers_text.replace('m', '')) * 1000000)\n",
        "    else:\n",
        "        return int(followers_text)"
      ],
      "metadata": {
        "id": "PAW4HrPRZvZ2"
      },
      "execution_count": null,
      "outputs": []
    },
    {
      "cell_type": "markdown",
      "source": [
        "# Function to extract follower count\n",
        "In this funtion we extract the follower count using the username.\n",
        "\n",
        "**Inputs:**\n",
        "1. Username: The username to get follower count.\n",
        "\n",
        "**Returns:**\n",
        "Follower count, type: `int`\n",
        "\n",
        "**Code Explaination:**\n",
        "* We edit the url and add the username given in input\n",
        "* We create a get request using the `.get()` method of `requests` library.\n",
        "* We create an `BeautifulSoup` object using the response from the request.\n",
        "* We use BeautifulSoup methods like `.find` , `.find_all()` along` to find the html elements and then we use `.strip()` and `.replace()` methods to accurately extract the follower count text from it.\n",
        "* We get the follower count by using the function we created in the last section - `convert_followers_count()`\n",
        "\n",
        "**Website used for web-scrapping twitter followers count: https://hypeauditor.com/**\n"
      ],
      "metadata": {
        "id": "ZAdMIwtQfKTj"
      }
    },
    {
      "cell_type": "code",
      "source": [
        "def extract_followers_count(username):\n",
        "    url = f'https://hypeauditor.com/twitter/{username}/'\n",
        "    response = requests.get(url)\n",
        "    soup = BeautifulSoup(response.text, 'html.parser')\n",
        "\n",
        "    metrics_div = soup.find('div', {'class': 'metrics flex'})\n",
        "\n",
        "    if metrics_div:\n",
        "        metric_divs = metrics_div.find_all('div', {'class': 'metric'})\n",
        "\n",
        "        for div in metric_divs:\n",
        "            metric_title = div.find('div', {'class': 'metric-title'})\n",
        "            if metric_title and metric_title.text.strip() == 'Followers':\n",
        "                followers_count = div.text.replace('Followers', '').strip()\n",
        "                return convert_followers_to_int(followers_count)\n",
        "\n",
        "    return None"
      ],
      "metadata": {
        "id": "sIcdF_K9Zwfh"
      },
      "execution_count": null,
      "outputs": []
    },
    {
      "cell_type": "markdown",
      "source": [
        "# Using the above functions to fetch the follower count of each unique username\n",
        "\n",
        "In this code block, we use the pandas `.apply` method to create a new column in the unique usernames dataframe with the followers count in it.\n"
      ],
      "metadata": {
        "id": "GtCeV0MMf3jq"
      }
    },
    {
      "cell_type": "code",
      "source": [
        "df_unique_usernames['followers'] = df_unique_usernames['username'].apply(lambda x: extract_followers_count(x) if pd.notnull(x) else None)"
      ],
      "metadata": {
        "id": "ykv2mXXKcCiL"
      },
      "execution_count": null,
      "outputs": []
    },
    {
      "cell_type": "markdown",
      "source": [
        "# A new column \"followers\" is added to the original dataframe\n",
        "- A dictionary is created which maps every unique username to the follower count.\n",
        "- This mapping is used to create a new \"followers\" column in the original dataframe."
      ],
      "metadata": {
        "id": "fBwaOKHdgGNT"
      }
    },
    {
      "cell_type": "code",
      "source": [
        "username_followers_mapping = df_unique_usernames.set_index('username')['followers'].to_dict()\n",
        "df['followers'] = df['username'].map(username_followers_mapping)"
      ],
      "metadata": {
        "id": "eaFzm4hPeB3F"
      },
      "execution_count": null,
      "outputs": []
    },
    {
      "cell_type": "markdown",
      "source": [
        "# Converting the dataframe back to an excel sheet\n",
        "The dataframe is then converted to an excel file for furthur use."
      ],
      "metadata": {
        "id": "Cjmq1euHzwNd"
      }
    },
    {
      "cell_type": "code",
      "source": [
        "df.to_excel('PS_8_dataset_with_followers.xlsx')"
      ],
      "metadata": {
        "id": "wJyL9wXvzkPr"
      },
      "execution_count": null,
      "outputs": []
    }
  ]
}